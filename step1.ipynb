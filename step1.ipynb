{
 "cells": [
  {
   "cell_type": "code",
   "execution_count": 8,
   "id": "9e11ce51",
   "metadata": {},
   "outputs": [],
   "source": [
    "import pandas as pd\n",
    "import os\n",
    "from sqlalchemy import create_engine\n",
    "from logger import logging\n",
    "import time"
   ]
  },
  {
   "cell_type": "code",
   "execution_count": 9,
   "id": "97fa6629",
   "metadata": {},
   "outputs": [],
   "source": [
    "engine=create_engine('sqlite:///vendor.db')"
   ]
  },
  {
   "cell_type": "code",
   "execution_count": 12,
   "id": "95e4b99e",
   "metadata": {},
   "outputs": [],
   "source": [
    "def load_data():\n",
    "   start_time=time.time()\n",
    "   for file in os.listdir('inputfiles'):\n",
    "       print(file)\n",
    "       df=pd.read_csv('inputfiles/'+file)\n",
    "       logging.info(f'Ingesting {file} in db' )\n",
    "       print(df.shape)\n",
    "   end_time=time.time()\n",
    "       # inge_db(df,file[:-4],engine)"
   ]
  },
  {
   "cell_type": "code",
   "execution_count": 5,
   "id": "0ba7499a",
   "metadata": {},
   "outputs": [],
   "source": [
    "def inge_db(df,table_name,engine):\n",
    "    df.to_sql(table_name,con=engine,if_exists='replace',index=False)"
   ]
  },
  {
   "cell_type": "code",
   "execution_count": 1,
   "id": "2913c9b9",
   "metadata": {},
   "outputs": [
    {
     "name": "stdout",
     "output_type": "stream",
     "text": [
      "hello world\n"
     ]
    }
   ],
   "source": [
    "print(\"hello world\")"
   ]
  }
 ],
 "metadata": {
  "kernelspec": {
   "display_name": "venv",
   "language": "python",
   "name": "python3"
  },
  "language_info": {
   "codemirror_mode": {
    "name": "ipython",
    "version": 3
   },
   "file_extension": ".py",
   "mimetype": "text/x-python",
   "name": "python",
   "nbconvert_exporter": "python",
   "pygments_lexer": "ipython3",
   "version": "3.13.5"
  }
 },
 "nbformat": 4,
 "nbformat_minor": 5
}
